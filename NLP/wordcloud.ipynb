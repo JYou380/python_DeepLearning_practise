{
 "cells": [
  {
   "cell_type": "code",
   "execution_count": 2,
   "metadata": {},
   "outputs": [],
   "source": [
    "from PIL import Image\n",
    "import matplotlib.pyplot as plt\n",
    "from wordcloud import WordCloud\n",
    "import jieba\n",
    "import numpy as np\n",
    "from collections import Counter"
   ]
  },
  {
   "cell_type": "code",
   "execution_count": 3,
   "metadata": {},
   "outputs": [],
   "source": [
    "text = open('news1.txt', \"r\",encoding=\"utf-8\").read()"
   ]
  },
  {
   "cell_type": "code",
   "execution_count": 23,
   "metadata": {},
   "outputs": [
    {
     "name": "stderr",
     "output_type": "stream",
     "text": [
      "Building prefix dict from /Users/ojy/Desktop/python_ML_DL/NLP/dictionary/dict.txt.big.txt ...\n"
     ]
    },
    {
     "name": "stderr",
     "output_type": "stream",
     "text": [
      "Loading model from cache /var/folders/g6/zgth7wjd2hd89znx33ttr3xc0000gn/T/jieba.u6b523ba18fccff2b7e4a8fe372a7c173.cache\n",
      "Loading model cost 2.704 seconds.\n",
      "Prefix dict has been built successfully.\n"
     ]
    }
   ],
   "source": [
    "jieba.set_dictionary('dictionary/dict.txt.big.txt')\n",
    "with open('dictionary/stopWord_cloudmod.txt',\"r\",encoding=\"utf-8-sig\") as f: stops = f.read().split('\\n')\n",
    "terms= []\n",
    "\n",
    "for t in jieba.cut(text, cut_all=False):\n",
    "    if t not in stops or not '\\n':\n",
    "        terms.append(t)\n",
    "\n",
    "diction = Counter(terms)"
   ]
  },
  {
   "cell_type": "code",
   "execution_count": 24,
   "metadata": {},
   "outputs": [
    {
     "name": "stdout",
     "output_type": "stream",
     "text": [
      "Counter({'\\n': 56, '道德': 23, '理論': 22, ' ': 19, '布倫南': 17, '誤用': 16, '小': 11, '安安': 11, '認為': 11, '人': 10, '反抗': 9, '警察': 9, '危險': 9, '相當': 8, '一個': 7, '證據': 7, '性': 6, '小華': 6, '義': 6, '戰爭': 6, '憲法': 6, '接受': 6, '相信': 6, '國家': 5, '政府': 5, '同樣': 5, '中': 5, '知道': 5, '暗殺': 5, '法律': 5, '服從': 5, '問題': 5, '有時候': 4, '欺騙': 4, '案例': 4, '殺人': 4, '成功': 4, '無辜': 4, '奴役': 4, '事實上': 4, '應該': 4, 'p': 4, '正義': 4, '惡': 4, '需要': 4, '主張': 3, '防衛': 3, '命令': 3, '準備': 3, '宣稱': 3, '說謊': 3, '結論': 3, '信念': 3, '人們': 3, '『': 3, '』': 3, '這是': 3, '射殺': 3, '真的': 3, '看到': 3, '時': 3, '執法人員': 2, '使用': 2, '人為': 2, '相同': 2, '採取': 2, '攻擊': 2, '殺害': 2, '下': 2, '行為': 2, '文章': 2, '惡行': 2, '看法': 2, '一些': 2, '身為': 2, '狙擊手': 2, '決定': 2, '下令': 2, '阻止': 2, '民眾': 2, '總統': 2, '選民': 2, '以為': 2, '兩個': 2, '一模一樣': 2, '政治': 2, '許可': 2, '設想': 2, '群人': 2, '解讀': 2, '上面': 2, '意思': 2, '那群人': 2, '不可': 2, '說': 2, '反對': 2, '同婚': 2, '曲解': 2, '執法': 2, '之外': 2, '支持': 2, '嚴重': 2, '感覺': 2, '提出': 2, '後果': 2, '傾向': 2, '這種': 2, '所欲': 2, '正確': 2, '往往': 2, '有人': 2, '違法': 2, '毆打': 2, '看似': 2, '有沒有': 2, '著槍': 2, '理由': 2, '攔車': 2, '駕駛': 2, '實驗室': 2, '順從': 2, '屠殺': 2, '大屠殺': 2, '\\ufeff': 1, '反民主': 1, '作者': 1, 'Jason': 1, 'Brennan': 1, '負隅頑抗': 1, '暴行': 1, '倫理': 1, 'When': 1, 'All': 1, 'Else': 1, 'Fails': 1, 'The': 1, 'Ethics': 1, 'of': 1, 'Resistance': 1, 'to': 1, 'State': 1, 'Injustice': 1, '暫譯': 1, '非': 1, '直譯': 1, '指出': 1, '人應': 1, '標準': 1, '惡時': 1, '人員': 1, '之惡時': 1, '稱': 1, '其他人': 1, '自我': 1, '他者': 1, '或採': 1, '撒謊': 1, '破壞': 1, '公民': 1, '毀損': 1, '私人': 1, '財物': 1, '方式': 1, '條件': 1, '進行': 1, '之前': 1, '刊登': 1, '一篇': 1, '介紹': 1, '過布倫南': 1, '於此': 1, '本文': 1, '我要': 1, '討論': 1, '辯護': 1, '小華是': 1, '犯罪集團': 1, '首腦': 1, '時常': 1, '手': 1, '下去': 1, '很快': 1, '便會': 1, '下達': 1, '再次': 1, '海軍陸戰隊': 1, '榮退': 1, '前': 1, '殺': 1, '殺死': 1, '發動': 1, '國人': 1, '必要': 1, '爆發': 1, '成千上萬': 1, '枉死': 1, '曾': 1, '嘗試': 1, '和平': 1, '手段': 1, '但並': 1, '海軍陸戰': 1, '退榮': 1, '退': 1, '開戰': 1, '先殺': 1, '最後': 1, '制止': 1, '繼任者': 1, '不好戰': 1, '世界': 1, '知名': 1, '語言': 1, '哲學家': 1, '一段': 1, '篇文章': 1, '呈現': 1, '真理': 1, '講了': 1, '遵守': 1, '完': 1, '發現': 1, '寫著': 1, '己所不欲': 1, '勿施於人': 1, '大法官': 1, '找': 1, '恪守': 1, '專業知識': 1, '合憲': 1, '武力': 1, '過當': 1, '特定': 1, '情況': 1, '政策': 1, '竊取': 1, '掩飾': 1, '不義的': 1, '機密': 1, '公諸於世': 1, '人讀': 1, '容易': 1, '反應': 1, '行動': 1, '覺得': 1, '其來': 1, '這件': 1, '事': 1, '無法': 1, '準確': 1, '預測': 1, '復仇': 1, '憤怒': 1, '眾人': 1, '此書': 1, '出現': 1, '真實': 1, '生活': 1, '允許': 1, '國會議員': 1, '認知': 1, '犯錯': 1, '認真': 1, '懷疑': 1, '目前': 1, '認定': 1, '可行': 1, '106': 1, '不該': 1, '布倫南稱': 1, '上述': 1, '反駁': 1, '類似': 1, '成為': 1, '社會': 1, '亂源': 1, '濫殺無辜': 1, '幾個': 1, '回應': 1, '以下': 1, '我將': 1, '分成': 1, '兩點': 1, '來談': 1, '差別': 1, '回顧歷史': 1, '完全符合': 1, '今日': 1, '無': 1, '義務': 1, '特別是在': 1, '軍隊': 1, '脈絡': 1, '正常': 1, '軍事': 1, '教育': 1, '會談': 1, '議題': 1, '立場': 1, '導致': 1, '濫用': 1, '兩回事': 1, '是否': 1, '答案': 1, '明確': 1, '區分': 1, '而布倫南': 1, '每個': 1, '確實': 1, '小心': 1, '怎樣才能': 1, '避免': 1, '重點': 1, '在於': 1, '等行': 1, '多數': 1, '狀況': 1, '不好': 1, '好': 1, '確定': 1, '傷害': 1, '作惡': 1, '倒地不起': 1, '人時': 1, '看不到': 1, '保護': 1, '至少': 1, '偉大': 1, '美利堅合': 1, '眾國': 1, '高': 1, '機率': 1, '美國': 1, '後': 1, '卻將': 1, '手持': 1, '證件': 1, '盤查': 1, '拖': 1, '下車': 1, '上銬': 1, '抵住': 1, '頭部': 1, '作勢': 1, '開槍': 1, '足夠': 1, '該名': 1, '不小': 1, '這並': 1, '特殊要求': 1, '實際上': 1, '正當性': 1, '一定': 1, '擔心': 1, '講求': 1, '特有': 1, '比較': 1, '談': 1, '真正': 1, '可怕': 1, '東西': 1, '米': 1, '爾格': 1, '倫': 1, '實驗': 1, 'Milgram': 1, 'Experiment': 1, '顯示': 1, '輕易': 1, '權威': 1, '指示': 1, '提及': 1, '美萊村': 1, '納粹': 1, '集中營': 1, '蘇聯': 1, '古拉格': 1, '烏克蘭': 1, '大飢荒': 1, '亞美尼亞': 1, '種族': 1, '揚州': 1, '十日': 1, '事件': 1, '114': 1, '取決於': 1, '政治立場': 1, '想到': 1, '南京大屠殺': 1, '二二八': 1, '白色恐怖': 1, '明朝': 1, '大儒': 1, '王陽明': 1, '苗族': 1, '消失': 1, '大肚': 1, '王國': 1, '雲林': 1, '許多': 1, '參與者': 1, '奉命行事': 1, '缺乏': 1, '行事': 1, '更會': 1, '一味': 1, '正常人': 1, '掌權者': 1, '只在乎': 1, '安危': 1, '活活': 1, '打死': 1, '出手': 1, '干涉': 1, '只會': 1, '錄影': 1, '再放上': 1, 'YouTube': 1, '參與': 1, '外國人': 1, '會照': 1, '做': 1, '113': 1, '相較': 1, '面對': 1, '挺身而出': 1, '擁戴': 1, '希特勒': 1, '史達林': 1, '115': 1, '恐怖': 1, '特別': 1, '是當': 1, '守法': 1, '服從命令': 1})\n"
     ]
    }
   ],
   "source": [
    "print (diction)"
   ]
  },
  {
   "cell_type": "code",
   "execution_count": 26,
   "metadata": {},
   "outputs": [
    {
     "ename": "ValueError",
     "evalue": "anchor not supported for multiline text",
     "output_type": "error",
     "traceback": [
      "\u001b[0;31m---------------------------------------------------------------------------\u001b[0m",
      "\u001b[0;31mValueError\u001b[0m                                Traceback (most recent call last)",
      "Cell \u001b[0;32mIn[26], line 4\u001b[0m\n\u001b[1;32m      1\u001b[0m font \u001b[39m=\u001b[39m \u001b[39m'\u001b[39m\u001b[39m/Library/Fonts/Arial Unicode.ttf\u001b[39m\u001b[39m'\u001b[39m\n\u001b[1;32m      3\u001b[0m wordcloud \u001b[39m=\u001b[39m WordCloud(font_path\u001b[39m=\u001b[39mfont)\n\u001b[0;32m----> 4\u001b[0m wordcloud\u001b[39m.\u001b[39;49mgenerate_from_frequencies(frequencies\u001b[39m=\u001b[39;49mdiction)\n\u001b[1;32m      6\u001b[0m plt\u001b[39m.\u001b[39mfigure(figsize\u001b[39m=\u001b[39m(\u001b[39m6\u001b[39m,\u001b[39m6\u001b[39m))\n\u001b[1;32m      7\u001b[0m plt\u001b[39m.\u001b[39mimshow(wordcloud)\n",
      "File \u001b[0;32m~/anaconda3/lib/python3.10/site-packages/wordcloud/wordcloud.py:453\u001b[0m, in \u001b[0;36mWordCloud.generate_from_frequencies\u001b[0;34m(self, frequencies, max_font_size)\u001b[0m\n\u001b[1;32m    451\u001b[0m     font_size \u001b[39m=\u001b[39m \u001b[39mself\u001b[39m\u001b[39m.\u001b[39mheight\n\u001b[1;32m    452\u001b[0m \u001b[39melse\u001b[39;00m:\n\u001b[0;32m--> 453\u001b[0m     \u001b[39mself\u001b[39;49m\u001b[39m.\u001b[39;49mgenerate_from_frequencies(\u001b[39mdict\u001b[39;49m(frequencies[:\u001b[39m2\u001b[39;49m]),\n\u001b[1;32m    454\u001b[0m                                    max_font_size\u001b[39m=\u001b[39;49m\u001b[39mself\u001b[39;49m\u001b[39m.\u001b[39;49mheight)\n\u001b[1;32m    455\u001b[0m     \u001b[39m# find font sizes\u001b[39;00m\n\u001b[1;32m    456\u001b[0m     sizes \u001b[39m=\u001b[39m [x[\u001b[39m1\u001b[39m] \u001b[39mfor\u001b[39;00m x \u001b[39min\u001b[39;00m \u001b[39mself\u001b[39m\u001b[39m.\u001b[39mlayout_]\n",
      "File \u001b[0;32m~/anaconda3/lib/python3.10/site-packages/wordcloud/wordcloud.py:508\u001b[0m, in \u001b[0;36mWordCloud.generate_from_frequencies\u001b[0;34m(self, frequencies, max_font_size)\u001b[0m\n\u001b[1;32m    505\u001b[0m transposed_font \u001b[39m=\u001b[39m ImageFont\u001b[39m.\u001b[39mTransposedFont(\n\u001b[1;32m    506\u001b[0m     font, orientation\u001b[39m=\u001b[39morientation)\n\u001b[1;32m    507\u001b[0m \u001b[39m# get size of resulting text\u001b[39;00m\n\u001b[0;32m--> 508\u001b[0m box_size \u001b[39m=\u001b[39m draw\u001b[39m.\u001b[39;49mtextbbox((\u001b[39m0\u001b[39;49m, \u001b[39m0\u001b[39;49m), word, font\u001b[39m=\u001b[39;49mtransposed_font, anchor\u001b[39m=\u001b[39;49m\u001b[39m\"\u001b[39;49m\u001b[39mlt\u001b[39;49m\u001b[39m\"\u001b[39;49m)\n\u001b[1;32m    509\u001b[0m \u001b[39m# find possible places using integral image:\u001b[39;00m\n\u001b[1;32m    510\u001b[0m result \u001b[39m=\u001b[39m occupancy\u001b[39m.\u001b[39msample_position(box_size[\u001b[39m3\u001b[39m] \u001b[39m+\u001b[39m \u001b[39mself\u001b[39m\u001b[39m.\u001b[39mmargin,\n\u001b[1;32m    511\u001b[0m                                    box_size[\u001b[39m2\u001b[39m] \u001b[39m+\u001b[39m \u001b[39mself\u001b[39m\u001b[39m.\u001b[39mmargin,\n\u001b[1;32m    512\u001b[0m                                    random_state)\n",
      "File \u001b[0;32m~/anaconda3/lib/python3.10/site-packages/PIL/ImageDraw.py:727\u001b[0m, in \u001b[0;36mImageDraw.textbbox\u001b[0;34m(self, xy, text, font, anchor, spacing, align, direction, features, language, stroke_width, embedded_color)\u001b[0m\n\u001b[1;32m    724\u001b[0m     \u001b[39mraise\u001b[39;00m \u001b[39mValueError\u001b[39;00m(msg)\n\u001b[1;32m    726\u001b[0m \u001b[39mif\u001b[39;00m \u001b[39mself\u001b[39m\u001b[39m.\u001b[39m_multiline_check(text):\n\u001b[0;32m--> 727\u001b[0m     \u001b[39mreturn\u001b[39;00m \u001b[39mself\u001b[39;49m\u001b[39m.\u001b[39;49mmultiline_textbbox(\n\u001b[1;32m    728\u001b[0m         xy,\n\u001b[1;32m    729\u001b[0m         text,\n\u001b[1;32m    730\u001b[0m         font,\n\u001b[1;32m    731\u001b[0m         anchor,\n\u001b[1;32m    732\u001b[0m         spacing,\n\u001b[1;32m    733\u001b[0m         align,\n\u001b[1;32m    734\u001b[0m         direction,\n\u001b[1;32m    735\u001b[0m         features,\n\u001b[1;32m    736\u001b[0m         language,\n\u001b[1;32m    737\u001b[0m         stroke_width,\n\u001b[1;32m    738\u001b[0m         embedded_color,\n\u001b[1;32m    739\u001b[0m     )\n\u001b[1;32m    741\u001b[0m \u001b[39mif\u001b[39;00m font \u001b[39mis\u001b[39;00m \u001b[39mNone\u001b[39;00m:\n\u001b[1;32m    742\u001b[0m     font \u001b[39m=\u001b[39m \u001b[39mself\u001b[39m\u001b[39m.\u001b[39mgetfont()\n",
      "File \u001b[0;32m~/anaconda3/lib/python3.10/site-packages/PIL/ImageDraw.py:774\u001b[0m, in \u001b[0;36mImageDraw.multiline_textbbox\u001b[0;34m(self, xy, text, font, anchor, spacing, align, direction, features, language, stroke_width, embedded_color)\u001b[0m\n\u001b[1;32m    772\u001b[0m \u001b[39melif\u001b[39;00m anchor[\u001b[39m1\u001b[39m] \u001b[39min\u001b[39;00m \u001b[39m\"\u001b[39m\u001b[39mtb\u001b[39m\u001b[39m\"\u001b[39m:\n\u001b[1;32m    773\u001b[0m     msg \u001b[39m=\u001b[39m \u001b[39m\"\u001b[39m\u001b[39manchor not supported for multiline text\u001b[39m\u001b[39m\"\u001b[39m\n\u001b[0;32m--> 774\u001b[0m     \u001b[39mraise\u001b[39;00m \u001b[39mValueError\u001b[39;00m(msg)\n\u001b[1;32m    776\u001b[0m widths \u001b[39m=\u001b[39m []\n\u001b[1;32m    777\u001b[0m max_width \u001b[39m=\u001b[39m \u001b[39m0\u001b[39m\n",
      "\u001b[0;31mValueError\u001b[0m: anchor not supported for multiline text"
     ]
    }
   ],
   "source": [
    "font = '/Library/Fonts/Arial Unicode.ttf'\n",
    "\n",
    "wordcloud = WordCloud(font_path=font)\n",
    "wordcloud.generate_from_frequencies(frequencies=diction)\n",
    "\n",
    "plt.figure(figsize=(6,6))\n",
    "plt.imshow(wordcloud)"
   ]
  }
 ],
 "metadata": {
  "kernelspec": {
   "display_name": "base",
   "language": "python",
   "name": "python3"
  },
  "language_info": {
   "codemirror_mode": {
    "name": "ipython",
    "version": 3
   },
   "file_extension": ".py",
   "mimetype": "text/x-python",
   "name": "python",
   "nbconvert_exporter": "python",
   "pygments_lexer": "ipython3",
   "version": "3.10.9"
  },
  "orig_nbformat": 4
 },
 "nbformat": 4,
 "nbformat_minor": 2
}
