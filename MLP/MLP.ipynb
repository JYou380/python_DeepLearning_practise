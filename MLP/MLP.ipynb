{
 "cells": [
  {
   "cell_type": "code",
   "execution_count": 1,
   "metadata": {},
   "outputs": [
    {
     "name": "stderr",
     "output_type": "stream",
     "text": [
      "2023-09-25 13:38:19.211681: I tensorflow/core/platform/cpu_feature_guard.cc:182] This TensorFlow binary is optimized to use available CPU instructions in performance-critical operations.\n",
      "To enable the following instructions: AVX2 FMA, in other operations, rebuild TensorFlow with the appropriate compiler flags.\n"
     ]
    }
   ],
   "source": [
    "from keras.datasets  import mnist"
   ]
  },
  {
   "cell_type": "code",
   "execution_count": 3,
   "metadata": {},
   "outputs": [
    {
     "name": "stdout",
     "output_type": "stream",
     "text": [
      "Downloading data from https://storage.googleapis.com/tensorflow/tf-keras-datasets/mnist.npz\n"
     ]
    },
    {
     "name": "stdout",
     "output_type": "stream",
     "text": [
      "11490434/11490434 [==============================] - 1s 0us/step\n"
     ]
    }
   ],
   "source": [
    "(train_feature, train_lable), (test_feature , test_label) = mnist.load_data()"
   ]
  },
  {
   "cell_type": "code",
   "execution_count": 4,
   "metadata": {},
   "outputs": [
    {
     "name": "stdout",
     "output_type": "stream",
     "text": [
      "60000 60000\n"
     ]
    }
   ],
   "source": [
    "print (len(train_feature),len(train_lable))"
   ]
  },
  {
   "cell_type": "code",
   "execution_count": 5,
   "metadata": {},
   "outputs": [
    {
     "name": "stdout",
     "output_type": "stream",
     "text": [
      "(60000, 28, 28) (60000,)\n"
     ]
    }
   ],
   "source": [
    "print (train_feature.shape,train_lable.shape)"
   ]
  },
  {
   "cell_type": "code",
   "execution_count": 6,
   "metadata": {},
   "outputs": [],
   "source": [
    "import matplotlib.pyplot as plt\n",
    "\n",
    "def show_image(image):\n",
    "    fig = plt.gcf()\n",
    "    fig.set_size_inches(2,2)\n",
    "    plt.imshow(image,cmap='binary')\n",
    "    plt.show()"
   ]
  },
  {
   "cell_type": "code",
   "execution_count": 10,
   "metadata": {},
   "outputs": [
    {
     "data": {
      "image/png": "[encoded data removed]",
      "text/plain": [
       "<Figure size 200x200 with 1 Axes>"
      ]
     },
     "metadata": {},
     "output_type": "display_data"
    },
    {
     "name": "stdout",
     "output_type": "stream",
     "text": [
      "1\n"
     ]
    }
   ],
   "source": [
    "show_image(train_feature[3])\n",
    "print(train_lable[3])"
   ]
  },
  {
   "cell_type": "code",
   "execution_count": 11,
   "metadata": {},
   "outputs": [],
   "source": [
    "###feature preprocess###################\n",
    "\n",
    "train_feature_vector = train_feature.reshape(len(train_feature),784).astype('float32')\n",
    "test_feature_vector = test_feature.reshape(len(test_feature),784).astype('float32')\n"
   ]
  },
  {
   "cell_type": "code",
   "execution_count": 12,
   "metadata": {},
   "outputs": [
    {
     "name": "stdout",
     "output_type": "stream",
     "text": [
      "(60000, 784) (10000, 784)\n"
     ]
    }
   ],
   "source": [
    "print (train_feature_vector.shape,test_feature_vector.shape)"
   ]
  },
  {
   "cell_type": "code",
   "execution_count": 13,
   "metadata": {},
   "outputs": [],
   "source": [
    "####normalize#############\n",
    "\n",
    "train_feature_normalize = train_feature_vector/255\n",
    "test_feature_normalize = test_feature_vector/255"
   ]
  },
  {
   "cell_type": "code",
   "execution_count": 21,
   "metadata": {},
   "outputs": [
    {
     "name": "stdout",
     "output_type": "stream",
     "text": [
      "[5 0 4 1 9]\n",
      "[[0. 0. 0. ... 0. 0. 0.]\n",
      " [1. 0. 0. ... 0. 0. 0.]\n",
      " [0. 0. 0. ... 0. 0. 0.]\n",
      " ...\n",
      " [0. 0. 0. ... 0. 0. 0.]\n",
      " [0. 0. 0. ... 0. 0. 0.]\n",
      " [0. 0. 0. ... 0. 1. 0.]]\n"
     ]
    }
   ],
   "source": [
    "####label preprocess #########\n",
    "\n",
    "print (train_lable[0:5])\n",
    "\n",
    "#from keras.utils import np_utils\n",
    "from tensorflow.python.keras.utils.np_utils import to_categorical\n",
    "\n",
    "train_lable_onehot = to_categorical(train_lable)\n",
    "test_lable_onehot = to_categorical(test_label)\n",
    "print (train_lable_onehot)"
   ]
  },
  {
   "cell_type": "code",
   "execution_count": 23,
   "metadata": {},
   "outputs": [],
   "source": [
    "#### create sequential model ####\n",
    "\n",
    "from keras.models import Sequential\n",
    "from keras.layers import Dense\n",
    "\n",
    "\n",
    "model = Sequential()\n",
    "\n",
    "### create input layer and hidden layer#########\n",
    "\n",
    "model.add(Dense (units= 256, input_dim=784,kernel_initializer='normal',activation= 'relu'))\n",
    "\n",
    "### create output layer ###############\n",
    "\n",
    "model.add(Dense (units = 10 , kernel_initializer='normal', activation= 'softmax'))"
   ]
  },
  {
   "cell_type": "code",
   "execution_count": 25,
   "metadata": {},
   "outputs": [
    {
     "name": "stdout",
     "output_type": "stream",
     "text": [
      "Epoch 1/10\n",
      "240/240 - 3s - loss: 0.4325 - accuracy: 0.8844 - val_loss: 0.2195 - val_accuracy: 0.9399 - 3s/epoch - 12ms/step\n",
      "Epoch 2/10\n",
      "240/240 - 1s - loss: 0.1928 - accuracy: 0.9450 - val_loss: 0.1552 - val_accuracy: 0.9555 - 1s/epoch - 6ms/step\n",
      "Epoch 3/10\n",
      "240/240 - 1s - loss: 0.1343 - accuracy: 0.9617 - val_loss: 0.1270 - val_accuracy: 0.9639 - 1s/epoch - 6ms/step\n",
      "Epoch 4/10\n",
      "240/240 - 2s - loss: 0.1024 - accuracy: 0.9709 - val_loss: 0.1100 - val_accuracy: 0.9666 - 2s/epoch - 7ms/step\n",
      "Epoch 5/10\n",
      "240/240 - 2s - loss: 0.0814 - accuracy: 0.9767 - val_loss: 0.1026 - val_accuracy: 0.9706 - 2s/epoch - 8ms/step\n",
      "Epoch 6/10\n",
      "240/240 - 2s - loss: 0.0654 - accuracy: 0.9822 - val_loss: 0.0940 - val_accuracy: 0.9732 - 2s/epoch - 7ms/step\n",
      "Epoch 7/10\n",
      "240/240 - 2s - loss: 0.0544 - accuracy: 0.9852 - val_loss: 0.0909 - val_accuracy: 0.9720 - 2s/epoch - 9ms/step\n",
      "Epoch 8/10\n",
      "240/240 - 1s - loss: 0.0446 - accuracy: 0.9878 - val_loss: 0.0880 - val_accuracy: 0.9735 - 1s/epoch - 6ms/step\n",
      "Epoch 9/10\n",
      "240/240 - 1s - loss: 0.0369 - accuracy: 0.9904 - val_loss: 0.0820 - val_accuracy: 0.9749 - 1s/epoch - 5ms/step\n",
      "Epoch 10/10\n",
      "240/240 - 1s - loss: 0.0312 - accuracy: 0.9921 - val_loss: 0.0883 - val_accuracy: 0.9738 - 1s/epoch - 5ms/step\n"
     ]
    }
   ],
   "source": [
    "### training model #####################\n",
    "\n",
    "model.compile (loss= 'categorical_crossentropy', optimizer= 'adam',metrics=['accuracy'])\n",
    "\n",
    "train_history = model.fit(x=train_feature_normalize,y=train_lable_onehot,validation_split=0.2,epochs=10,batch_size=200,verbose=2) "
   ]
  },
  {
   "cell_type": "code",
   "execution_count": 26,
   "metadata": {},
   "outputs": [
    {
     "name": "stdout",
     "output_type": "stream",
     "text": [
      "313/313 [==============================] - 1s 2ms/step - loss: 0.0760 - accuracy: 0.9774\n",
      "\\準確率 =  0.977400004863739\n"
     ]
    }
   ],
   "source": [
    "### accuracy check #####\n",
    "\n",
    "scores = model.evaluate(test_feature_normalize,test_lable_onehot)\n",
    "\n",
    "print ('\\準確率 = ',scores[1])"
   ]
  },
  {
   "cell_type": "code",
   "execution_count": 32,
   "metadata": {},
   "outputs": [
    {
     "name": "stdout",
     "output_type": "stream",
     "text": [
      "313/313 [==============================] - 2s 5ms/step\n"
     ]
    }
   ],
   "source": [
    "import numpy as np\n",
    "#prediction = model.predict_classes(test_feature_normalize)\\\n",
    "prediction = np.argmax(model.predict(test_feature_normalize),axis=1)"
   ]
  },
  {
   "cell_type": "code",
   "execution_count": 33,
   "metadata": {},
   "outputs": [
    {
     "data": {
      "image/png": "[encoded data removed]",
      "text/plain": [
       "<Figure size 200x200 with 1 Axes>"
      ]
     },
     "metadata": {},
     "output_type": "display_data"
    },
    {
     "name": "stdout",
     "output_type": "stream",
     "text": [
      "7 7\n"
     ]
    }
   ],
   "source": [
    "show_image(test_feature[0])\n",
    "print (test_label[0],prediction[0])"
   ]
  },
  {
   "cell_type": "code",
   "execution_count": 34,
   "metadata": {},
   "outputs": [
    {
     "name": "stderr",
     "output_type": "stream",
     "text": [
      "/Users/ojy/anaconda3/lib/python3.10/site-packages/keras/src/engine/training.py:3000: UserWarning: You are saving your model as an HDF5 file via `model.save()`. This file format is considered legacy. We recommend using instead the native Keras format, e.g. `model.save('my_model.keras')`.\n",
      "  saving_api.save_model(\n"
     ]
    }
   ],
   "source": [
    "model.save('Minist_mlp_model.h5')"
   ]
  }
 ],
 "metadata": {
  "kernelspec": {
   "display_name": "Python 3",
   "language": "python",
   "name": "python3"
  },
  "language_info": {
   "codemirror_mode": {
    "name": "ipython",
    "version": 3
   },
   "file_extension": ".py",
   "mimetype": "text/x-python",
   "name": "python",
   "nbconvert_exporter": "python",
   "pygments_lexer": "ipython3",
   "version": "3.10.9"
  },
  "orig_nbformat": 4
 },
 "nbformat": 4,
 "nbformat_minor": 2
}
