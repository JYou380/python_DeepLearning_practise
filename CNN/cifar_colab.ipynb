{
  "nbformat": 4,
  "nbformat_minor": 0,
  "metadata": {
    "colab": {
      "provenance": [],
      "gpuType": "T4"
    },
    "kernelspec": {
      "name": "python3",
      "display_name": "Python 3"
    },
    "language_info": {
      "name": "python"
    },
    "accelerator": "GPU"
  },
  "cells": [
    {
      "cell_type": "code",
      "execution_count": 4,
      "metadata": {
        "id": "cS4sxGWZwyBD"
      },
      "outputs": [],
      "source": [
        "from keras.datasets import cifar10\n",
        "from tensorflow.python.keras.utils import np_utils\n",
        "from keras.models import Sequential\n",
        "from keras.layers import Conv2D, MaxPooling2D, Flatten, Dense, Dropout"
      ]
    },
    {
      "cell_type": "code",
      "source": [
        "((train_data,train_label),(test_data,test_label)) = cifar10.load_data()\n",
        "train_data = train_data /255\n",
        "train_label_onehot = np_utils.to_categorical(train_label)\n",
        "test_data = test_data /255\n",
        "test_label_onehot = np_utils.to_categorical(test_label)"
      ],
      "metadata": {
        "colab": {
          "base_uri": "https://localhost:8080/"
        },
        "id": "rxXaJeHxyh6b",
        "outputId": "4f335e27-0109-4a13-9c0d-46e8f5586a95"
      },
      "execution_count": 5,
      "outputs": [
        {
          "output_type": "stream",
          "name": "stdout",
          "text": [
            "Downloading data from https://www.cs.toronto.edu/~kriz/cifar-10-python.tar.gz\n",
            "170498071/170498071 [==============================] - 3s 0us/step\n"
          ]
        }
      ]
    },
    {
      "cell_type": "code",
      "source": [
        "\n",
        "dropvalue = 0.3\n",
        "model = Sequential()\n",
        "\n",
        "model.add(Conv2D(input_shape=(32,32,3), filters = 32, kernel_size= (5,5), padding= 'same',activation= 'relu'))\n",
        "model.add(MaxPooling2D(pool_size=(2,2)))\n",
        "model.add(Dropout(dropvalue))\n",
        "model.add(Conv2D(filters=64,kernel_size=(5,5),padding='same',activation='relu'))\n",
        "model.add(MaxPooling2D(pool_size=(2,2)))\n",
        "model.add(Dropout(dropvalue))\n",
        "model.add(Flatten())\n",
        "model.add(Dense(units=256,kernel_initializer='normal',activation='relu'))\n",
        "model.add(Dropout(dropvalue))\n",
        "model.add(Dense(units=10,kernel_initializer='normal',activation='softmax'))\n",
        "\n",
        "model.compile(loss='categorical_crossentropy',optimizer=\"adam\",metrics=['accuracy'])\n",
        "\n",
        "model.fit(x=train_data, y=train_label_onehot, validation_split=0.2 , epochs=50, batch_size=500,verbose=2)\n",
        "\n",
        "evalu= model.evaluate(test_data,test_label_onehot)\n",
        "\n",
        "print ('scoter = ', evalu)"
      ],
      "metadata": {
        "colab": {
          "base_uri": "https://localhost:8080/"
        },
        "id": "WZ5PiGYqzK0R",
        "outputId": "08e1414f-67e1-472b-b26f-c5a933771e86"
      },
      "execution_count": 14,
      "outputs": [
        {
          "output_type": "stream",
          "name": "stdout",
          "text": [
            "Epoch 1/50\n",
            "80/80 - 14s - loss: 1.8930 - accuracy: 0.3060 - val_loss: 1.6002 - val_accuracy: 0.4262 - 14s/epoch - 170ms/step\n",
            "Epoch 2/50\n",
            "80/80 - 2s - loss: 1.5215 - accuracy: 0.4482 - val_loss: 1.4123 - val_accuracy: 0.5073 - 2s/epoch - 23ms/step\n",
            "Epoch 3/50\n",
            "80/80 - 2s - loss: 1.3621 - accuracy: 0.5112 - val_loss: 1.2550 - val_accuracy: 0.5650 - 2s/epoch - 25ms/step\n",
            "Epoch 4/50\n",
            "80/80 - 2s - loss: 1.2614 - accuracy: 0.5501 - val_loss: 1.1671 - val_accuracy: 0.5945 - 2s/epoch - 24ms/step\n",
            "Epoch 5/50\n",
            "80/80 - 2s - loss: 1.1675 - accuracy: 0.5835 - val_loss: 1.1296 - val_accuracy: 0.6077 - 2s/epoch - 22ms/step\n",
            "Epoch 6/50\n",
            "80/80 - 2s - loss: 1.1095 - accuracy: 0.6067 - val_loss: 1.0560 - val_accuracy: 0.6353 - 2s/epoch - 23ms/step\n",
            "Epoch 7/50\n",
            "80/80 - 2s - loss: 1.0548 - accuracy: 0.6278 - val_loss: 1.0401 - val_accuracy: 0.6309 - 2s/epoch - 23ms/step\n",
            "Epoch 8/50\n",
            "80/80 - 2s - loss: 1.0058 - accuracy: 0.6451 - val_loss: 0.9738 - val_accuracy: 0.6571 - 2s/epoch - 22ms/step\n",
            "Epoch 9/50\n",
            "80/80 - 2s - loss: 0.9697 - accuracy: 0.6557 - val_loss: 0.9380 - val_accuracy: 0.6744 - 2s/epoch - 23ms/step\n",
            "Epoch 10/50\n",
            "80/80 - 2s - loss: 0.9362 - accuracy: 0.6706 - val_loss: 0.8968 - val_accuracy: 0.6895 - 2s/epoch - 26ms/step\n",
            "Epoch 11/50\n",
            "80/80 - 2s - loss: 0.8862 - accuracy: 0.6888 - val_loss: 0.8835 - val_accuracy: 0.6943 - 2s/epoch - 23ms/step\n",
            "Epoch 12/50\n",
            "80/80 - 2s - loss: 0.8732 - accuracy: 0.6928 - val_loss: 0.8705 - val_accuracy: 0.6969 - 2s/epoch - 23ms/step\n",
            "Epoch 13/50\n",
            "80/80 - 2s - loss: 0.8342 - accuracy: 0.7078 - val_loss: 0.8599 - val_accuracy: 0.6979 - 2s/epoch - 23ms/step\n",
            "Epoch 14/50\n",
            "80/80 - 2s - loss: 0.8059 - accuracy: 0.7171 - val_loss: 0.8257 - val_accuracy: 0.7157 - 2s/epoch - 23ms/step\n",
            "Epoch 15/50\n",
            "80/80 - 2s - loss: 0.7870 - accuracy: 0.7227 - val_loss: 0.8162 - val_accuracy: 0.7195 - 2s/epoch - 23ms/step\n",
            "Epoch 16/50\n",
            "80/80 - 2s - loss: 0.7527 - accuracy: 0.7345 - val_loss: 0.8055 - val_accuracy: 0.7216 - 2s/epoch - 25ms/step\n",
            "Epoch 17/50\n",
            "80/80 - 2s - loss: 0.7284 - accuracy: 0.7426 - val_loss: 0.8029 - val_accuracy: 0.7216 - 2s/epoch - 24ms/step\n",
            "Epoch 18/50\n",
            "80/80 - 2s - loss: 0.7192 - accuracy: 0.7451 - val_loss: 0.8062 - val_accuracy: 0.7261 - 2s/epoch - 23ms/step\n",
            "Epoch 19/50\n",
            "80/80 - 2s - loss: 0.6857 - accuracy: 0.7584 - val_loss: 0.7713 - val_accuracy: 0.7350 - 2s/epoch - 23ms/step\n",
            "Epoch 20/50\n",
            "80/80 - 2s - loss: 0.6605 - accuracy: 0.7676 - val_loss: 0.7679 - val_accuracy: 0.7332 - 2s/epoch - 25ms/step\n",
            "Epoch 21/50\n",
            "80/80 - 2s - loss: 0.6517 - accuracy: 0.7701 - val_loss: 0.7695 - val_accuracy: 0.7378 - 2s/epoch - 23ms/step\n",
            "Epoch 22/50\n",
            "80/80 - 2s - loss: 0.6238 - accuracy: 0.7776 - val_loss: 0.7696 - val_accuracy: 0.7363 - 2s/epoch - 23ms/step\n",
            "Epoch 23/50\n",
            "80/80 - 2s - loss: 0.6130 - accuracy: 0.7826 - val_loss: 0.7585 - val_accuracy: 0.7400 - 2s/epoch - 24ms/step\n",
            "Epoch 24/50\n",
            "80/80 - 2s - loss: 0.5870 - accuracy: 0.7925 - val_loss: 0.7553 - val_accuracy: 0.7378 - 2s/epoch - 24ms/step\n",
            "Epoch 25/50\n",
            "80/80 - 2s - loss: 0.5652 - accuracy: 0.7998 - val_loss: 0.7537 - val_accuracy: 0.7453 - 2s/epoch - 23ms/step\n",
            "Epoch 26/50\n",
            "80/80 - 2s - loss: 0.5585 - accuracy: 0.8013 - val_loss: 0.7561 - val_accuracy: 0.7462 - 2s/epoch - 25ms/step\n",
            "Epoch 27/50\n",
            "80/80 - 2s - loss: 0.5362 - accuracy: 0.8119 - val_loss: 0.7499 - val_accuracy: 0.7438 - 2s/epoch - 23ms/step\n",
            "Epoch 28/50\n",
            "80/80 - 2s - loss: 0.5197 - accuracy: 0.8153 - val_loss: 0.7576 - val_accuracy: 0.7471 - 2s/epoch - 23ms/step\n",
            "Epoch 29/50\n",
            "80/80 - 2s - loss: 0.5053 - accuracy: 0.8193 - val_loss: 0.7467 - val_accuracy: 0.7449 - 2s/epoch - 25ms/step\n",
            "Epoch 30/50\n",
            "80/80 - 2s - loss: 0.4899 - accuracy: 0.8263 - val_loss: 0.7602 - val_accuracy: 0.7443 - 2s/epoch - 24ms/step\n",
            "Epoch 31/50\n",
            "80/80 - 2s - loss: 0.4783 - accuracy: 0.8296 - val_loss: 0.7635 - val_accuracy: 0.7437 - 2s/epoch - 23ms/step\n",
            "Epoch 32/50\n",
            "80/80 - 2s - loss: 0.4629 - accuracy: 0.8361 - val_loss: 0.7827 - val_accuracy: 0.7454 - 2s/epoch - 25ms/step\n",
            "Epoch 33/50\n",
            "80/80 - 2s - loss: 0.4514 - accuracy: 0.8384 - val_loss: 0.7628 - val_accuracy: 0.7442 - 2s/epoch - 23ms/step\n",
            "Epoch 34/50\n",
            "80/80 - 2s - loss: 0.4303 - accuracy: 0.8467 - val_loss: 0.7584 - val_accuracy: 0.7503 - 2s/epoch - 23ms/step\n",
            "Epoch 35/50\n",
            "80/80 - 2s - loss: 0.4261 - accuracy: 0.8468 - val_loss: 0.7611 - val_accuracy: 0.7505 - 2s/epoch - 23ms/step\n",
            "Epoch 36/50\n",
            "80/80 - 2s - loss: 0.4160 - accuracy: 0.8519 - val_loss: 0.7688 - val_accuracy: 0.7471 - 2s/epoch - 26ms/step\n",
            "Epoch 37/50\n",
            "80/80 - 2s - loss: 0.3975 - accuracy: 0.8594 - val_loss: 0.7653 - val_accuracy: 0.7514 - 2s/epoch - 23ms/step\n",
            "Epoch 38/50\n",
            "80/80 - 2s - loss: 0.3895 - accuracy: 0.8617 - val_loss: 0.7746 - val_accuracy: 0.7534 - 2s/epoch - 23ms/step\n",
            "Epoch 39/50\n",
            "80/80 - 2s - loss: 0.3726 - accuracy: 0.8655 - val_loss: 0.7811 - val_accuracy: 0.7509 - 2s/epoch - 23ms/step\n",
            "Epoch 40/50\n",
            "80/80 - 2s - loss: 0.3680 - accuracy: 0.8684 - val_loss: 0.7858 - val_accuracy: 0.7489 - 2s/epoch - 23ms/step\n",
            "Epoch 41/50\n",
            "80/80 - 2s - loss: 0.3677 - accuracy: 0.8696 - val_loss: 0.7910 - val_accuracy: 0.7483 - 2s/epoch - 23ms/step\n",
            "Epoch 42/50\n",
            "80/80 - 2s - loss: 0.3542 - accuracy: 0.8732 - val_loss: 0.7886 - val_accuracy: 0.7497 - 2s/epoch - 24ms/step\n",
            "Epoch 43/50\n",
            "80/80 - 2s - loss: 0.3423 - accuracy: 0.8767 - val_loss: 0.8049 - val_accuracy: 0.7536 - 2s/epoch - 26ms/step\n",
            "Epoch 44/50\n",
            "80/80 - 2s - loss: 0.3404 - accuracy: 0.8796 - val_loss: 0.7926 - val_accuracy: 0.7492 - 2s/epoch - 23ms/step\n",
            "Epoch 45/50\n",
            "80/80 - 2s - loss: 0.3248 - accuracy: 0.8852 - val_loss: 0.8078 - val_accuracy: 0.7517 - 2s/epoch - 23ms/step\n",
            "Epoch 46/50\n",
            "80/80 - 2s - loss: 0.3151 - accuracy: 0.8877 - val_loss: 0.8234 - val_accuracy: 0.7519 - 2s/epoch - 23ms/step\n",
            "Epoch 47/50\n",
            "80/80 - 2s - loss: 0.3183 - accuracy: 0.8864 - val_loss: 0.8240 - val_accuracy: 0.7440 - 2s/epoch - 25ms/step\n",
            "Epoch 48/50\n",
            "80/80 - 2s - loss: 0.3087 - accuracy: 0.8911 - val_loss: 0.8134 - val_accuracy: 0.7542 - 2s/epoch - 24ms/step\n",
            "Epoch 49/50\n",
            "80/80 - 2s - loss: 0.3017 - accuracy: 0.8912 - val_loss: 0.8255 - val_accuracy: 0.7526 - 2s/epoch - 26ms/step\n",
            "Epoch 50/50\n",
            "80/80 - 2s - loss: 0.2918 - accuracy: 0.8959 - val_loss: 0.8224 - val_accuracy: 0.7537 - 2s/epoch - 23ms/step\n",
            "313/313 [==============================] - 1s 3ms/step - loss: 0.8404 - accuracy: 0.7467\n",
            "scoter =  [0.8403524160385132, 0.7466999888420105]\n"
          ]
        }
      ]
    }
  ]
}